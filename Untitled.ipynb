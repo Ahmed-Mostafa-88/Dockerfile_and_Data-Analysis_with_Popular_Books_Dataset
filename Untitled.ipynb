{
 "cells": [
  {
   "cell_type": "code",
   "execution_count": 1,
   "id": "860540d6-83a0-4c1a-92fb-79c6a7f80314",
   "metadata": {},
   "outputs": [
    {
     "name": "stdout",
     "output_type": "stream",
     "text": [
      "Collecting pandas\n",
      "  Downloading pandas-2.2.2-cp311-cp311-manylinux_2_17_x86_64.manylinux2014_x86_64.whl.metadata (19 kB)\n",
      "Collecting numpy>=1.23.2 (from pandas)\n",
      "  Downloading numpy-1.26.4-cp311-cp311-manylinux_2_17_x86_64.manylinux2014_x86_64.whl.metadata (61 kB)\n",
      "\u001b[2K     \u001b[90m━━━━━━━━━━━━━━━━━━━━━━━━━━━━━━━━━━━━━━━\u001b[0m \u001b[32m61.0/61.0 kB\u001b[0m \u001b[31m593.8 kB/s\u001b[0m eta \u001b[36m0:00:00\u001b[0ma \u001b[36m0:00:01\u001b[0m\n",
      "\u001b[?25hRequirement already satisfied: python-dateutil>=2.8.2 in /opt/conda/lib/python3.11/site-packages (from pandas) (2.8.2)\n",
      "Requirement already satisfied: pytz>=2020.1 in /opt/conda/lib/python3.11/site-packages (from pandas) (2023.3.post1)\n",
      "Collecting tzdata>=2022.7 (from pandas)\n",
      "  Downloading tzdata-2024.1-py2.py3-none-any.whl.metadata (1.4 kB)\n",
      "Requirement already satisfied: six>=1.5 in /opt/conda/lib/python3.11/site-packages (from python-dateutil>=2.8.2->pandas) (1.16.0)\n",
      "Downloading pandas-2.2.2-cp311-cp311-manylinux_2_17_x86_64.manylinux2014_x86_64.whl (13.0 MB)\n",
      "\u001b[2K   \u001b[90m━━━━━━━━━━━━━━━━━━━━━━━━━━━━━━━━━━━━━━━━\u001b[0m \u001b[32m13.0/13.0 MB\u001b[0m \u001b[31m1.6 MB/s\u001b[0m eta \u001b[36m0:00:00\u001b[0m00:01\u001b[0m00:01\u001b[0m\n",
      "\u001b[?25hDownloading numpy-1.26.4-cp311-cp311-manylinux_2_17_x86_64.manylinux2014_x86_64.whl (18.3 MB)\n",
      "\u001b[2K   \u001b[90m━━━━━━━━━━━━━━━━━━━━━━━━━━━━━━━━━━━━━━━━\u001b[0m \u001b[32m18.3/18.3 MB\u001b[0m \u001b[31m1.6 MB/s\u001b[0m eta \u001b[36m0:00:00\u001b[0m00:01\u001b[0m00:01\u001b[0m\n",
      "\u001b[?25hDownloading tzdata-2024.1-py2.py3-none-any.whl (345 kB)\n",
      "\u001b[2K   \u001b[90m━━━━━━━━━━━━━━━━━━━━━━━━━━━━━━━━━━━━━━━━\u001b[0m \u001b[32m345.4/345.4 kB\u001b[0m \u001b[31m1.1 MB/s\u001b[0m eta \u001b[36m0:00:00\u001b[0m00:01\u001b[0m00:01\u001b[0m\n",
      "\u001b[?25hInstalling collected packages: tzdata, numpy, pandas\n",
      "Successfully installed numpy-1.26.4 pandas-2.2.2 tzdata-2024.1\n"
     ]
    }
   ],
   "source": [
    "!pip install pandas\n",
    "\n"
   ]
  },
  {
   "cell_type": "markdown",
   "id": "8c6f093e-9ae1-408f-a5ed-f9d077f976b1",
   "metadata": {},
   "source": [
    "# Data Loading"
   ]
  },
  {
   "cell_type": "code",
   "execution_count": 8,
   "id": "e166fe7e-f6c4-460a-ad6a-b131fa3668f3",
   "metadata": {},
   "outputs": [
    {
     "name": "stdout",
     "output_type": "stream",
     "text": [
      "   book_id  goodreads_book_id  best_book_id   work_id  books_count       isbn  \\\n",
      "0        1            2767052       2767052   2792775          272  439023483   \n",
      "1        2                  3             3   4640799          491  439554934   \n",
      "2        3              41865         41865   3212258          226  316015849   \n",
      "3        6           11870085      11870085  16827462          226  525478817   \n",
      "4       12           13335037      13335037  13155899          210   62024035   \n",
      "\n",
      "         isbn13                      authors  original_publication_year  \\\n",
      "0  9.780439e+12              Suzanne Collins                     2008.0   \n",
      "1  9.780440e+12  J.K. Rowling, Mary GrandPré                     1997.0   \n",
      "2  9.780316e+12              Stephenie Meyer                     2005.0   \n",
      "3  9.780525e+12                   John Green                     2012.0   \n",
      "4  9.780062e+12                Veronica Roth                     2011.0   \n",
      "\n",
      "                             original_title  ... ratings_count  \\\n",
      "0                          The Hunger Games  ...       4780653   \n",
      "1  Harry Potter and the Philosopher's Stone  ...       4602479   \n",
      "2                                  Twilight  ...       3866839   \n",
      "3                    The Fault in Our Stars  ...       2346404   \n",
      "4                                 Divergent  ...       1903563   \n",
      "\n",
      "  work_ratings_count  work_text_reviews_count  ratings_1  ratings_2  \\\n",
      "0            4942365                   155254      66715     127936   \n",
      "1            4800065                    75867      75504     101676   \n",
      "2            3916824                    95009     456191     436802   \n",
      "3            2478609                   140739      47994      92723   \n",
      "4            2216814                   101023      36315      82870   \n",
      "\n",
      "   ratings_3  ratings_4  ratings_5  \\\n",
      "0     560092    1481305    2706317   \n",
      "1     455024    1156318    3011543   \n",
      "2     793319     875073    1355439   \n",
      "3     327550     698471    1311871   \n",
      "4     310297     673028    1114304   \n",
      "\n",
      "                                           image_url  \\\n",
      "0  https://images.gr-assets.com/books/1447303603m...   \n",
      "1  https://images.gr-assets.com/books/1474154022m...   \n",
      "2  https://images.gr-assets.com/books/1361039443m...   \n",
      "3  https://images.gr-assets.com/books/1360206420m...   \n",
      "4  https://images.gr-assets.com/books/1328559506m...   \n",
      "\n",
      "                                     small_image_url  \n",
      "0  https://images.gr-assets.com/books/1447303603s...  \n",
      "1  https://images.gr-assets.com/books/1474154022s...  \n",
      "2  https://images.gr-assets.com/books/1361039443s...  \n",
      "3  https://images.gr-assets.com/books/1360206420s...  \n",
      "4  https://images.gr-assets.com/books/1328559506s...  \n",
      "\n",
      "[5 rows x 23 columns]\n"
     ]
    }
   ],
   "source": [
    "import pandas as pd\n",
    "\n",
    "# Load the dataset using the full path from the root directory inside the Docker container\n",
    "df = pd.read_csv('/popular_books_dataset.csv')\n",
    "\n",
    "# Display the first few rows of the dataset\n",
    "print(df.head())\n",
    "\n"
   ]
  },
  {
   "cell_type": "markdown",
   "id": "e8f87f01-a37d-4826-882b-cdf98509fada",
   "metadata": {},
   "source": [
    "# Data Cleaning and Preprocessing"
   ]
  },
  {
   "cell_type": "code",
   "execution_count": 11,
   "id": "b99f9758-2ab3-4602-baa3-9e4f9728c7c6",
   "metadata": {},
   "outputs": [
    {
     "name": "stdout",
     "output_type": "stream",
     "text": [
      "Unique Harry Potter Books:\n",
      "[\"Harry Potter and the Philosopher's Stone\"\n",
      " 'Harry Potter and the Prisoner of Azkaban'\n",
      " 'Harry Potter and the Order of the Phoenix'\n",
      " 'Harry Potter and the Chamber of Secrets'\n",
      " 'Harry Potter and the Goblet of Fire'\n",
      " 'Harry Potter and the Deathly Hallows'\n",
      " 'Harry Potter and the Half-Blood Prince'\n",
      " 'Complete Harry Potter Boxed Set'\n",
      " 'Harry Potter Collection (Harry Potter, #1-6)'\n",
      " 'The Magical Worlds of Harry Potter: A Treasury of Myths, Legends, and Fascinating Facts']\n",
      "\n",
      "Missing Values:\n",
      "book_id                      0\n",
      "goodreads_book_id            0\n",
      "best_book_id                 0\n",
      "work_id                      0\n",
      "books_count                  0\n",
      "isbn                         0\n",
      "isbn13                       0\n",
      "authors                      0\n",
      "original_publication_year    0\n",
      "original_title               0\n",
      "title                        0\n",
      "language_code                0\n",
      "average_rating               0\n",
      "ratings_count                0\n",
      "work_ratings_count           0\n",
      "work_text_reviews_count      0\n",
      "ratings_1                    0\n",
      "ratings_2                    0\n",
      "ratings_3                    0\n",
      "ratings_4                    0\n",
      "ratings_5                    0\n",
      "image_url                    0\n",
      "small_image_url              0\n",
      "dtype: int64\n"
     ]
    }
   ],
   "source": [
    "# Filter the dataset to focus on the Harry Potter series\n",
    "df_hp = df[df['original_title'].str.contains('Harry Potter', case=False, na=False)]\n",
    "\n",
    "# Check the unique book titles in the Harry Potter series\n",
    "print(\"Unique Harry Potter Books:\")\n",
    "print(df_hp['original_title'].unique())\n",
    "\n",
    "# Drop any duplicate entries based on the 'Book Title'\n",
    "df_hp = df_hp.drop_duplicates(subset=['original_title'])\n",
    "\n",
    "# Check for missing values\n",
    "print(\"\\nMissing Values:\")\n",
    "print(df_hp.isnull().sum())\n"
   ]
  },
  {
   "cell_type": "markdown",
   "id": "24c4acda-fae7-4b33-9954-36c62f91524c",
   "metadata": {},
   "source": [
    "# Find the Most Selling Books within the Harry Potter Series"
   ]
  },
  {
   "cell_type": "code",
   "execution_count": 13,
   "id": "20f32475-58f8-4222-9da9-6bdb980de3ca",
   "metadata": {},
   "outputs": [
    {
     "name": "stdout",
     "output_type": "stream",
     "text": [
      "Most Selling Books in Harry Potter Series:\n",
      "original_title\n",
      "Harry Potter and the Philosopher's Stone    4602479\n",
      "Harry Potter and the Prisoner of Azkaban    1832823\n",
      "Harry Potter and the Chamber of Secrets     1779331\n",
      "Harry Potter and the Goblet of Fire         1753043\n",
      "Harry Potter and the Deathly Hallows        1746574\n",
      "Name: ratings_count, dtype: int64\n"
     ]
    }
   ],
   "source": [
    "# Group by 'original_title' and sum up the 'ratings_count' to find total ratings for each book\n",
    "most_selling_books = df_hp.groupby('original_title')['ratings_count'].sum().sort_values(ascending=False)\n",
    "\n",
    "# Print the top selling books\n",
    "print(\"Most Selling Books in Harry Potter Series:\")\n",
    "print(most_selling_books.head())\n"
   ]
  },
  {
   "cell_type": "markdown",
   "id": "e4cc7a3d-cacc-424b-b8e7-22f038a4b3aa",
   "metadata": {},
   "source": [
    "# "
   ]
  },
  {
   "cell_type": "code",
   "execution_count": 14,
   "id": "d3e5bb75-1cc4-4dd0-a079-65df13bb3508",
   "metadata": {},
   "outputs": [
    {
     "name": "stdout",
     "output_type": "stream",
     "text": [
      "Average rating of the Harry Potter books: 4.49\n"
     ]
    }
   ],
   "source": [
    "# Calculate the average rating of the Harry Potter books\n",
    "average_rating_hp = df_hp['average_rating'].mean()\n",
    "\n",
    "# Print the average rating\n",
    "print(f\"Average rating of the Harry Potter books: {average_rating_hp:.2f}\")\n"
   ]
  }
 ],
 "metadata": {
  "kernelspec": {
   "display_name": "Python 3 (ipykernel)",
   "language": "python",
   "name": "python3"
  },
  "language_info": {
   "codemirror_mode": {
    "name": "ipython",
    "version": 3
   },
   "file_extension": ".py",
   "mimetype": "text/x-python",
   "name": "python",
   "nbconvert_exporter": "python",
   "pygments_lexer": "ipython3",
   "version": "3.11.6"
  }
 },
 "nbformat": 4,
 "nbformat_minor": 5
}
